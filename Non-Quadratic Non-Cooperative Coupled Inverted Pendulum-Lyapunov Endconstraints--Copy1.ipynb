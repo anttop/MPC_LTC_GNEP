{
 "cells": [
  {
   "cell_type": "code",
   "execution_count": 1,
   "id": "d9f3bd83",
   "metadata": {},
   "outputs": [],
   "source": [
    "import numpy as np\n",
    "from scipy.optimize import minimize\n",
    "import matplotlib.pyplot as plt\n",
    "from numpy.linalg import matrix_power\n",
    "import scipy\n",
    "import copy"
   ]
  },
  {
   "cell_type": "markdown",
   "id": "cad0b42d",
   "metadata": {},
   "source": [
    "We consider the cost function $\\sum_i tan^2(x_i/c) + \\lambda \\|u\\|^2$"
   ]
  },
  {
   "cell_type": "code",
   "execution_count": 2,
   "id": "a4676c39",
   "metadata": {},
   "outputs": [],
   "source": [
    "#corrected\n",
    "#continuous system\n",
    "# theta_1, theta_1',x_1,x_1', theta_2,theta_2', x_2,x_2'\n",
    "g=9.81 #gravity\n",
    "k_sp=1 #spring constante\n",
    "d=3   #length of relaxed spring\n",
    "l=1    #length\n",
    "\n",
    "A=np.array([[0,1,0,0,       0,0,0,0],\n",
    "            [g/l,0,k_sp/l,0,    0,0,-k_sp/l,0],\n",
    "            [0,0,0,1,       0,0,0,0],\n",
    "            [0,0,-k_sp,0,      0,0,k_sp,0],\n",
    "            [0,0,0,0,       0,1,0,0],\n",
    "            [0,0,-k_sp/l,0,       g/l,0,k_sp/l,0],\n",
    "            [0,0,0,0,       0,0,0,1],\n",
    "            [0,0,k_sp,0,       0,0,-k_sp,0]])\n",
    "B=np.array([[0,0],\n",
    "           [-1/l,0],\n",
    "           [0,0],\n",
    "           [1,0],\n",
    "           [0,0],\n",
    "           [0,-1/l],\n",
    "           [0,0],\n",
    "           [0,1]])\n",
    "\n",
    "\n",
    "nx=8 #dimension of state\n",
    "nu=2 #dimension of control (in total)\n",
    "Nu=2 #amount of players\n",
    "sampling_rate=0.1 "
   ]
  },
  {
   "cell_type": "code",
   "execution_count": 3,
   "id": "9b23178e",
   "metadata": {},
   "outputs": [],
   "source": [
    "x_ast=np.array([0.0,0.0,0,0.0, 0.0,0.0,d,0.0])\n",
    "N=5"
   ]
  },
  {
   "cell_type": "code",
   "execution_count": 4,
   "id": "294c26e2",
   "metadata": {},
   "outputs": [],
   "source": [
    "#discretize system via RK4\n",
    "steps = 1\n",
    "dt = sampling_rate/steps\n",
    "\n",
    "C= -A@x_ast\n",
    "\n",
    "A_k1 = A\n",
    "B_k1 = B\n",
    "C_k1= C\n",
    "            \n",
    "A_k2 = A + A@A_k1*(dt/2)\n",
    "B_k2 = A@B_k1*(dt/2) + B\n",
    "C_k2=A@C_k1*(dt/2)+C\n",
    "            \n",
    "A_k3 = A + A @ A_k2*(dt/2)\n",
    "B_k3 = A@B_k2*(dt/2) + B\n",
    "C_k3=A@C_k2*(dt/2)+C\n",
    "            \n",
    "A_k4 = A + A @ A_k3 * dt\n",
    "B_k4 = A@B_k3*dt + B\n",
    "C_k4=A@C_k3*(dt)+C\n",
    "            \n",
    "A_rk4 = (A_k1 + A_k2*2 + A_k3*2 + A_k4)*(dt/6)\n",
    "B_rk4 = (B_k1 + B_k2*2 + B_k3*2 + B_k4)*(dt/6)\n",
    "C_rk4 = (C_k1 + C_k2*2 + C_k3*2 + C_k4)*(dt/6)\n",
    "\n",
    "\n",
    "A_cont=A\n",
    "B_cont=B\n",
    "C_cont=C\n",
    "A = np.eye(nx)   \n",
    "B= np.zeros((nx,nu))\n",
    "C=np.zeros(C.shape)\n",
    "for i in range(steps):\n",
    "    C = C+ A@C_rk4\n",
    "    B = B+ A@B_rk4\n",
    "    A = A+ A@A_rk4             "
   ]
  },
  {
   "cell_type": "code",
   "execution_count": 5,
   "id": "4dbdba5e",
   "metadata": {},
   "outputs": [],
   "source": [
    "#parameters\n",
    "alpha=0.1  #alpha-pertubation\n",
    "beta=0.    #regularization of Nikaido-Isoda\n",
    "gamma=0.5    #penealty control\n",
    "b=100    #bounds\n",
    "c=15   #scaling parameter penality state"
   ]
  },
  {
   "cell_type": "code",
   "execution_count": 6,
   "id": "2ac4ea98",
   "metadata": {},
   "outputs": [
    {
     "data": {
      "text/plain": [
       "225"
      ]
     },
     "execution_count": 6,
     "metadata": {},
     "output_type": "execute_result"
    }
   ],
   "source": [
    "c**2"
   ]
  },
  {
   "cell_type": "code",
   "execution_count": 7,
   "id": "3effeceb",
   "metadata": {},
   "outputs": [],
   "source": [
    "P=scipy.linalg.solve_discrete_are(A, B, (1/c**2)*np.eye(nx), gamma*np.eye(nu), e=None, s=None, balanced=True)\n",
    "P/=1\n",
    "def F_end(x):\n",
    "    return np.dot(x-x_ast,P@(x-x_ast))"
   ]
  },
  {
   "cell_type": "code",
   "execution_count": 8,
   "id": "78cefb0a",
   "metadata": {},
   "outputs": [],
   "source": [
    "from scipy.optimize import Bounds\n",
    "b=100\n",
    "BT=B.transpose()\n",
    "M=np.linalg.inv(gamma*np.eye(nu)+BT@P@B)@BT@P@A\n",
    "bounds = Bounds(N*nu*[-b], N*nu*[b])\n",
    "delta=np.sqrt(nu)*b/np.linalg.norm(M) #bound for X_0 ball"
   ]
  },
  {
   "cell_type": "code",
   "execution_count": 9,
   "id": "fa17794e",
   "metadata": {},
   "outputs": [],
   "source": [
    "#compute smallest eigenvalue of P\n",
    "eigenvalues, eigenvectors=np.linalg.eig(P)\n",
    "lam_P_min=max(eigenvalues)"
   ]
  },
  {
   "cell_type": "code",
   "execution_count": 10,
   "id": "4c72f81e",
   "metadata": {},
   "outputs": [],
   "source": [
    "#parameter for X_0={x : V_inf(x) < =V_bound}\n",
    "#V_bound= bx**2*np.linalg.norm(P)\n",
    "V_bound= (delta**2)* lam_P_min"
   ]
  },
  {
   "cell_type": "code",
   "execution_count": 11,
   "id": "aff3a543",
   "metadata": {},
   "outputs": [
    {
     "data": {
      "text/plain": [
       "12004.041446990432"
      ]
     },
     "execution_count": 11,
     "metadata": {},
     "output_type": "execute_result"
    }
   ],
   "source": [
    "V_bound"
   ]
  },
  {
   "cell_type": "code",
   "execution_count": 12,
   "id": "5e520bf2",
   "metadata": {},
   "outputs": [],
   "source": [
    "nx_p=nx//Nu\n",
    "nu_p=nu//Nu\n",
    "def ell(x,u,i):\n",
    "    res=0\n",
    "    for j in range(i*nx_p,i*nx_p+nx_p):\n",
    "        res+=np.tan((x[j]-x_ast[j])/c)**2\n",
    "    res+=gamma*0.5*np.dot(u[i*nu_p:i*nu_p+nu_p],u[i*nu_p:i*nu_p+nu_p])\n",
    "    return res"
   ]
  },
  {
   "cell_type": "code",
   "execution_count": 13,
   "id": "1b1bc26d",
   "metadata": {},
   "outputs": [],
   "source": [
    "def inner_objective(u,x_iv,v):\n",
    "    u=u.reshape((N,nu))\n",
    "    v=v.reshape((N,nu))\n",
    "   #input u in form (N,nu)\n",
    "    su=0\n",
    "    for i in range(Nu):\n",
    "        x=x_iv\n",
    "        contrl=copy.deepcopy(u)\n",
    "        contrl[:,i*nu_p:nu_p+i*nu_p]=v[:,i*nu_p:nu_p+i*nu_p] \n",
    "        for k in range(N):\n",
    "            su+= ell(x,contrl[k],i)\n",
    "            x=A@x+B@contrl[k]+C     \n",
    "    diff=u-v\n",
    "    su+=beta*0.5*np.dot(diff.flatten(),diff.flatten())              \n",
    "    return su"
   ]
  },
  {
   "cell_type": "code",
   "execution_count": 14,
   "id": "9aa21c74",
   "metadata": {},
   "outputs": [],
   "source": [
    "def tan2_derivative(x):\n",
    "    return (2/c)*np.sin(x/c)/(np.cos(x/c)**3)"
   ]
  },
  {
   "cell_type": "code",
   "execution_count": 15,
   "id": "6aee8f9e",
   "metadata": {},
   "outputs": [],
   "source": [
    "K=[matrix_power(A,k)@B for k in range(N)]\n",
    "def inner_objective_jac(u,x_iv,v):\n",
    "    u=u.reshape((N,nu))\n",
    "    v=v.reshape((N,nu))\n",
    "    jac=np.zeros((N,nu))\n",
    "    for i in range(Nu):\n",
    "        x=x_iv\n",
    "        control=copy.deepcopy(u)\n",
    "        control[:,i*nu_p:nu_p+i*nu_p]=v[:,i*nu_p:nu_p+i*nu_p]\n",
    "        for k in range(N):\n",
    "            # diff refers to the outer derivative\n",
    "            #diff=x[i*nx_p:i*nx_p+nx_p]-x_ast[i*nx_p:i*nx_p+nx_p]\n",
    "            diff=tan2_derivative(x[i*nx_p:i*nx_p+nx_p]-x_ast[i*nx_p:i*nx_p+nx_p])\n",
    "            for n in range(0,k):\n",
    "                tmp=diff@K[k-n-1][i*nx_p:i*nx_p+nx_p,i*nu_p:nu_p+i*nu_p]\n",
    "                jac[n,i*nu_p:nu_p+i*nu_p]+=tmp.flatten()\n",
    "            if k <N:\n",
    "                x=A@x+B@control[k]+C     \n",
    "        jac[0:N,i*nu_p:nu_p+i*nu_p]+=gamma*v[0:N,i*nu_p:nu_p+i*nu_p]\n",
    "    jac+=beta*(v-u)    \n",
    "    return jac.reshape(-1)"
   ]
  },
  {
   "cell_type": "code",
   "execution_count": 16,
   "id": "3a1fb395",
   "metadata": {},
   "outputs": [],
   "source": [
    "def g(x_iv,u):\n",
    "    obj= lambda v: inner_objective(u,x_iv,v)\n",
    "    jac= lambda v: inner_objective_jac(u,x_iv,v)\n",
    "    v_0=np.zeros(u.shape).flatten()\n",
    "    \n",
    "    solution=minimize(obj,v_0, method=\"L-BFGS-B\", jac=jac,bounds=bounds)\n",
    "    if not solution.success:\n",
    "        print(\"inner\",solution.message)\n",
    "    return solution"
   ]
  },
  {
   "cell_type": "code",
   "execution_count": 17,
   "id": "c6c7086d",
   "metadata": {},
   "outputs": [],
   "source": [
    "def objective(x_iv,u):\n",
    "    u=u.reshape((N,nu)) \n",
    "    sec=0\n",
    "    sec=(1-alpha)*g(x_iv,u).fun\n",
    "    \n",
    "    first=0\n",
    "    x=x_iv\n",
    "    for k in range(N):\n",
    "        for i in range(Nu):\n",
    "            first+=ell(x,u[k],i)       \n",
    "        x=A@x+B@u[k]+C \n",
    "    return first-sec +F_end(x)"
   ]
  },
  {
   "cell_type": "code",
   "execution_count": 18,
   "id": "0f3e6a94",
   "metadata": {},
   "outputs": [],
   "source": [
    "K=[matrix_power(A,k)@B for k in range(N)]\n",
    "def objective_jac(x_iv,u):  #only with respect to u\n",
    "    u=u.reshape((N,nu))\n",
    "    jac=np.zeros((N,nu))\n",
    "\n",
    "    #part dependent on u only\n",
    "    contrl=copy.deepcopy(u)\n",
    "    x=copy.deepcopy(x_iv)\n",
    "    for k in range(N):\n",
    "        diff=(tan2_derivative(x-x_ast)).transpose()\n",
    "        for n in range(0,k):\n",
    "            jac[n,:]+=diff@K[k-n-1]\n",
    "        if k <N:\n",
    "            x=A@x+B@contrl[k]+C \n",
    "    jac+=gamma*u\n",
    "    for n in range(N):\n",
    "        jac[n,:]+=2*(x-x_ast).transpose()@P@K[N-n-1] \n",
    "    #second part\n",
    "    v=g(x_iv,u).x\n",
    "    v=v.reshape((N,nu))\n",
    "    for i in range(Nu):\n",
    "        x=x_iv\n",
    "        contrl=copy.deepcopy(u)\n",
    "        contrl[:,i*nu_p:nu_p+i*nu_p]=v[:,i*nu_p:nu_p+i*nu_p]\n",
    "        j=1-i\n",
    "        for n in range(N):\n",
    "            diff=tan2_derivative(x[i*nx_p:i*nx_p+nx_p]-x_ast[i*nx_p:i*nx_p+nx_p])\n",
    "            for k in range(0,n):\n",
    "                tmp=diff@K[n-k-1][i*nx_p:i*nx_p+nx_p,j*nu_p:nu_p+j*nu_p]\n",
    "                jac[k,j*nu_p:nu_p+j*nu_p]+=-(1-alpha)*tmp\n",
    "            if n<N:\n",
    "                x=A@x+B@contrl[n]+C\n",
    "    jac+=beta*(v-u)            \n",
    "    return jac.reshape(-1)"
   ]
  },
  {
   "cell_type": "code",
   "execution_count": 19,
   "id": "98dc742b",
   "metadata": {},
   "outputs": [],
   "source": [
    "def endcond(u,x_iv):\n",
    "    u=u.reshape((N,nu))\n",
    "    x=x_iv\n",
    "    for k in range(N):\n",
    "        x=A@x+B@u[k] +C\n",
    "    return V_bound-F_end(x)"
   ]
  },
  {
   "cell_type": "code",
   "execution_count": 20,
   "id": "133ed03e",
   "metadata": {},
   "outputs": [],
   "source": [
    "def eq_endcond(u,x_iv):\n",
    "    u=u.reshape((N,nu))\n",
    "    x=x_iv\n",
    "    for k in range(N):\n",
    "        x=A@x+B@u[k] +C\n",
    "    return x-x_ast"
   ]
  },
  {
   "cell_type": "code",
   "execution_count": 21,
   "id": "918df919",
   "metadata": {},
   "outputs": [],
   "source": [
    "def upperbound(u):\n",
    "    return (b*np.ones(N*nu)-u)\n",
    "def lowerbound(u):\n",
    "    return (u+b*np.ones(N*nu))"
   ]
  },
  {
   "cell_type": "code",
   "execution_count": 22,
   "id": "cd8b47d6",
   "metadata": {},
   "outputs": [],
   "source": [
    "maxIter=400\n",
    "x_ivv=np.asarray([0.6*np.pi,0,0,0,0,0,d,0])"
   ]
  },
  {
   "cell_type": "code",
   "execution_count": 23,
   "id": "dd5a15f8",
   "metadata": {},
   "outputs": [],
   "source": [
    "noise=100"
   ]
  },
  {
   "cell_type": "code",
   "execution_count": 24,
   "id": "af10b64f",
   "metadata": {
    "scrolled": true
   },
   "outputs": [
    {
     "name": "stdout",
     "output_type": "stream",
     "text": [
      "0\n",
      "10\n",
      "20\n",
      "30\n",
      "40\n",
      "50\n",
      "60\n",
      "70\n",
      "80\n",
      "90\n",
      "100\n",
      "110\n",
      "120\n",
      "130\n",
      "140\n",
      "150\n",
      "160\n",
      "170\n",
      "180\n",
      "190\n",
      "200\n",
      "210\n",
      "220\n",
      "230\n",
      "240\n",
      "250\n",
      "260\n",
      "270\n",
      "280\n",
      "290\n",
      "300\n",
      "310\n",
      "320\n",
      "330\n",
      "340\n",
      "350\n",
      "360\n",
      "370\n",
      "380\n",
      "390\n"
     ]
    }
   ],
   "source": [
    "x_iv=x_ivv\n",
    "u_0=np.zeros(N*nu)\n",
    "u_star=[]\n",
    "x_star=[]\n",
    "V=[]\n",
    "x_end=[]\n",
    "x_eq_end=[]\n",
    "x_F=[]\n",
    "x_Last=[]\n",
    "x_star.append(x_iv)\n",
    "for i in range(maxIter):\n",
    "    if i%10==0:\n",
    "        print(i)\n",
    "    obj= lambda u: objective(x_iv,u)\n",
    "    jac= lambda u: objective_jac(x_iv,u)\n",
    "    ec= lambda u: endcond(u,x_iv)/V_bound*b\n",
    "    end_cond={'type': \"ineq\",'fun': ec}\n",
    "    eq_end_cond={'type': \"ineq\",'fun': ec}\n",
    "    upper={'type': \"ineq\",'fun': upperbound}\n",
    "    lower={'type': \"ineq\",'fun': lowerbound}\n",
    "    solution=minimize(obj,u_0,method=\"SLSQP\",constraints=[end_cond, upper, lower],jac=jac)\n",
    "    if not solution.success:\n",
    "        print(i, solution.message)\n",
    "    contrl=solution.x\n",
    "    contrl=contrl.reshape((N,nu))\n",
    "    x_last=x_iv\n",
    "    for k in range(N):\n",
    "        x_last=A@x_last +B@contrl[k]+C\n",
    "    x_Last.append(endcond(contrl,x_iv)) #should be negative\n",
    "    x_eq_end.append(eq_endcond(contrl,x_iv))\n",
    "    x_F.append(F_end(x_last))\n",
    "    V.append(solution.fun)\n",
    "    #u_star.append(solution.x[0])\n",
    "    u_curr=solution.x.reshape((N,nu))[0]\n",
    "    u_star.append(u_curr)\n",
    "    x_iv=A@x_iv+B@u_curr+C\n",
    "  #  x_iv=addnoise_fac(x_iv, noise)\n",
    "    x_star.append(x_iv)\n",
    "   # u_0=solution.x"
   ]
  },
  {
   "cell_type": "code",
   "execution_count": null,
   "id": "d1702f3c",
   "metadata": {},
   "outputs": [],
   "source": []
  },
  {
   "cell_type": "code",
   "execution_count": 25,
   "id": "27f37af0",
   "metadata": {},
   "outputs": [],
   "source": [
    "import os\n",
    "dictname=\"tan/020\"\n",
    "os.makedirs(dictname)"
   ]
  },
  {
   "cell_type": "code",
   "execution_count": 26,
   "id": "6254053c",
   "metadata": {},
   "outputs": [],
   "source": [
    "with open(dictname+\"/stats.txt\", \"w\") as file:\n",
    "    file.write(\"alpha=\"+str(alpha))\n",
    "    file.write(\"\\n\")\n",
    "    file.write(\"inital value=\"+str(x_ivv))\n",
    "    file.write(\"\\n\")\n",
    "    file.write(\"N=\"+str(N))\n",
    "    file.write(\"\\n\")\n",
    "    file.write(\"noise=\"+str(noise))\n",
    "    file.write(\"\\n\")\n",
    "    file.write(\"U=[\"+str(-b)+\",\"+str(b)+\"]\")\n",
    "    file.write(\"\\n\")\n",
    "    file.write(\"gamma=\"+str(gamma))\n",
    "    file.write(\"\\n\")\n",
    "    file.write(\"beta=\"+str(beta))\n",
    "    file.write(\"\\n\")\n",
    "    file.write(\"spring=\"+str(k_sp))\n",
    "    file.write(\"\\n\")\n",
    "    file.write(\"rod_length=\"+str(l))\n",
    "    file.write(\"\\n\")\n",
    "    file.write(\"c=\"+str(c))\n",
    "    file.write(\"\\n\")\n",
    "    file.write(\"nu bound in X_0=\"+str(V_bound))"
   ]
  },
  {
   "cell_type": "code",
   "execution_count": 34,
   "id": "0bbe21c8",
   "metadata": {},
   "outputs": [
    {
     "data": {
      "image/png": "[encoded data removed]",
      "text/plain": [
       "<Figure size 432x288 with 1 Axes>"
      ]
     },
     "metadata": {
      "needs_background": "light"
     },
     "output_type": "display_data"
    }
   ],
   "source": [
    "plt.plot(V)\n",
    "#plt.rc('text', usetex = True)\n",
    "plt.title(r'Optimal Value Function  $V_N^\\alpha$')\n",
    "plt.xlabel(\"time\")\n",
    "plt.savefig(\"./\"+dictname+\"/optimalvalue.pdf\")"
   ]
  },
  {
   "cell_type": "code",
   "execution_count": 28,
   "id": "3bd5e112",
   "metadata": {},
   "outputs": [
    {
     "data": {
      "image/png": "[encoded data removed]",
      "text/plain": [
       "<Figure size 432x288 with 1 Axes>"
      ]
     },
     "metadata": {
      "needs_background": "light"
     },
     "output_type": "display_data"
    }
   ],
   "source": [
    "X_star=np.asarray(x_star)\n",
    "import matplotlib.pyplot as plt\n",
    "plt.plot(X_star[:,0],\"blue\", label=r\"$\\theta_1$\")\n",
    "plt.plot(X_star[:,1],\"red\", label=r\"$\\dot{\\theta}_1$\")\n",
    "plt.plot(X_star[:,2],\"green\", label=r\"$x_1$\")\n",
    "plt.plot(X_star[:,3],\"purple\",label=r\"$\\dot{x}_1$\")\n",
    "plt.legend()\n",
    "plt.title(\"First Pendulum's Trajectories\")\n",
    "plt.xlabel(\"time\")\n",
    "plt.savefig(\"./\"+dictname+\"/pendlum1.pdf\")"
   ]
  },
  {
   "cell_type": "code",
   "execution_count": 29,
   "id": "3ebaacd3",
   "metadata": {},
   "outputs": [
    {
     "data": {
      "image/png": "[encoded data removed]",
      "text/plain": [
       "<Figure size 432x288 with 1 Axes>"
      ]
     },
     "metadata": {
      "needs_background": "light"
     },
     "output_type": "display_data"
    }
   ],
   "source": [
    "plt.plot(X_star[:,4],\"blue\", label=r\"$\\theta_2$\")\n",
    "plt.plot(X_star[:,5],\"red\", label=r\"$\\dot{\\theta}_2$\")\n",
    "plt.plot(X_star[:,6],\"green\", label=r\"$x_2$\")\n",
    "plt.plot(X_star[:,7],\"purple\",label=r\"$\\dot{x}_2$\")\n",
    "plt.legend()\n",
    "plt.xlabel(\"time\")\n",
    "plt.title(\"Second Pendulum's Trajectories\")\n",
    "plt.savefig(\"./\"+dictname+\"/pendlum2.pdf\")"
   ]
  },
  {
   "cell_type": "code",
   "execution_count": 30,
   "id": "9c80eb50",
   "metadata": {},
   "outputs": [
    {
     "data": {
      "image/png": "[encoded data removed]",
      "text/plain": [
       "<Figure size 432x288 with 1 Axes>"
      ]
     },
     "metadata": {
      "needs_background": "light"
     },
     "output_type": "display_data"
    }
   ],
   "source": [
    "X_Last=[x for x in x_Last]\n",
    "X_Last=np.asarray(X_Last)\n",
    "plt.plot(X_Last)\n",
    "plt.title(\"Terminal Position\")\n",
    "plt.xlabel(\"time\")\n",
    "plt.savefig(\"./\"+dictname+\"/xLast.pdf\")"
   ]
  },
  {
   "cell_type": "code",
   "execution_count": 31,
   "id": "c2ec5166",
   "metadata": {},
   "outputs": [
    {
     "data": {
      "text/plain": [
       "Text(0.5, 1.0, 'Equilibrium Endpoint Constraint')"
      ]
     },
     "execution_count": 31,
     "metadata": {},
     "output_type": "execute_result"
    },
    {
     "data": {
      "image/png": "[encoded data removed]",
      "text/plain": [
       "<Figure size 432x288 with 1 Axes>"
      ]
     },
     "metadata": {
      "needs_background": "light"
     },
     "output_type": "display_data"
    }
   ],
   "source": [
    "plt.xlabel(\"time\")\n",
    "plt.plot(x_eq_end)\n",
    "plt.title(\"Equilibrium Endpoint Constraint\")"
   ]
  },
  {
   "cell_type": "code",
   "execution_count": 32,
   "id": "146bd138",
   "metadata": {},
   "outputs": [
    {
     "data": {
      "image/png": "[encoded data removed]",
      "text/plain": [
       "<Figure size 432x288 with 1 Axes>"
      ]
     },
     "metadata": {
      "needs_background": "light"
     },
     "output_type": "display_data"
    }
   ],
   "source": [
    "plt.plot(x_F)\n",
    "plt.title(\"End cost\")\n",
    "plt.xlabel(\"time\")\n",
    "plt.savefig(\"./\"+dictname+\"/terminalCost.pdf\")"
   ]
  },
  {
   "cell_type": "code",
   "execution_count": 33,
   "id": "9b99080f",
   "metadata": {},
   "outputs": [
    {
     "data": {
      "image/png": "[encoded data removed]",
      "text/plain": [
       "<Figure size 432x288 with 1 Axes>"
      ]
     },
     "metadata": {
      "needs_background": "light"
     },
     "output_type": "display_data"
    }
   ],
   "source": [
    "U_star=np.asarray(u_star)\n",
    "plt.plot(U_star[:,0], label=r\"$u_1$\")\n",
    "plt.plot(U_star[:,1],label=r\"$u_2$\")\n",
    "plt.legend()\n",
    "plt.title('Controls')\n",
    "plt.xlabel(\"time\")\n",
    "plt.savefig(\"./\"+dictname+\"/controls.pdf\")"
   ]
  },
  {
   "cell_type": "code",
   "execution_count": 36,
   "id": "d894b88b",
   "metadata": {},
   "outputs": [
    {
     "data": {
      "text/plain": [
       "11813.77329254898"
      ]
     },
     "execution_count": 36,
     "metadata": {},
     "output_type": "execute_result"
    }
   ],
   "source": [
    "V_bound-F_end(x_ast)"
   ]
  },
  {
   "cell_type": "code",
   "execution_count": 37,
   "id": "f06a08a2",
   "metadata": {},
   "outputs": [
    {
     "data": {
      "text/plain": [
       "1.12229763421546e-05"
      ]
     },
     "execution_count": 37,
     "metadata": {},
     "output_type": "execute_result"
    }
   ],
   "source": [
    "x_F[-1]"
   ]
  },
  {
   "cell_type": "code",
   "execution_count": null,
   "id": "51e6633f",
   "metadata": {},
   "outputs": [],
   "source": []
  }
 ],
 "metadata": {
  "kernelspec": {
   "display_name": "Python 3 (ipykernel)",
   "language": "python",
   "name": "python3"
  },
  "language_info": {
   "codemirror_mode": {
    "name": "ipython",
    "version": 3
   },
   "file_extension": ".py",
   "mimetype": "text/x-python",
   "name": "python",
   "nbconvert_exporter": "python",
   "pygments_lexer": "ipython3",
   "version": "3.9.12"
  }
 },
 "nbformat": 4,
 "nbformat_minor": 5
}
